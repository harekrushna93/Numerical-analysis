{
 "cells": [
  {
   "cell_type": "code",
   "execution_count": null,
   "id": "6abe7d16",
   "metadata": {},
   "outputs": [],
   "source": [
    "##"
   ]
  },
  {
   "cell_type": "code",
   "execution_count": 41,
   "id": "2bd84d72",
   "metadata": {},
   "outputs": [
    {
     "name": "stdout",
     "output_type": "stream",
     "text": [
      "A= [[  1.   0.   0.   0.   0.]\n",
      " [ 20. -39.  20.   0.   0.]\n",
      " [  0.  24. -47.  24.   0.]\n",
      " [  0.   0.  28. -55.  28.]\n",
      " [  0.   0.   0.   0.   1.]]\n",
      "b= [1 0 0 0 2]\n",
      "[1.         1.35125604 1.63494928 1.85051963 2.        ]\n",
      "y(0)=0.9999999999999997\n",
      "y(1)=1.3512560416537014\n",
      "y(2)=1.6349492812247182\n",
      "y(3)=1.8505196340780383\n"
     ]
    }
   ],
   "source": [
    "import numpy as np\n",
    "n=4\n",
    "x=np.linspace(1,2,n+1)\n",
    "h=x[1]-x[0]\n",
    "#geting A\n",
    "A=np.zeros((n+1,n+1))\n",
    "A[0,0]=1\n",
    "A[n,n]=1\n",
    "for i in range(1,n):\n",
    "    A[i,i-1]=16*x[i]\n",
    "    A[i,i]=1-32*x[i]\n",
    "    A[i,i+1]=16*x[i]\n",
    "print(\"A=\",A)\n",
    "b=np.array([1,0,0,0,2])\n",
    "print(\"b=\",b)\n",
    "y=np.linalg.solve(A,b)\n",
    "print(y)\n",
    "for j in range(0,4):\n",
    "    print(f\"y({j})={y[j]}\")\n",
    "   \n",
    "\n",
    "\n",
    "\n",
    "\n",
    "\n",
    "\n",
    "\n",
    "\n",
    "\n",
    "\n",
    "\n",
    "\n",
    "\n",
    "\n",
    "\n"
   ]
  },
  {
   "cell_type": "code",
   "execution_count": null,
   "id": "db7f59a8",
   "metadata": {},
   "outputs": [],
   "source": []
  },
  {
   "cell_type": "code",
   "execution_count": null,
   "id": "1a2a1a1d",
   "metadata": {},
   "outputs": [],
   "source": []
  }
 ],
 "metadata": {
  "kernelspec": {
   "display_name": "Python 3",
   "language": "python",
   "name": "python3"
  },
  "language_info": {
   "codemirror_mode": {
    "name": "ipython",
    "version": 3
   },
   "file_extension": ".py",
   "mimetype": "text/x-python",
   "name": "python",
   "nbconvert_exporter": "python",
   "pygments_lexer": "ipython3",
   "version": "3.8.8"
  }
 },
 "nbformat": 4,
 "nbformat_minor": 5
}
