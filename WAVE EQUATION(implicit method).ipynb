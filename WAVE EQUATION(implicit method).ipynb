{
 "cells": [
  {
   "cell_type": "code",
   "execution_count": 44,
   "id": "07e7ec09",
   "metadata": {},
   "outputs": [
    {
     "name": "stdout",
     "output_type": "stream",
     "text": [
      "r= 1.0\n"
     ]
    }
   ],
   "source": [
    "\"\"\"\n",
    "Finite difference method for wave equation(implicit method)\n",
    "u_tt=c^2u_xx\n",
    "Intial condition:u(x, 0) = f(x), 0 ≤ x ≤ l and u_t(x, 0) = g(x), 0 ≤ x ≤ l.\n",
    "boundary condition:u(0, t) =h(x), u(l, t) = k(x), t > 0.\n",
    "Schim is (-r^2/2)u(i-1,j+1)+(1+r^2)u(i,j+1)-(-r^2/2)u(i+1,j+1)\n",
    "                            =(r^2/2)u(i-1,j_1)-(1+r^2)u(i,j-1)+(r^2/2)u(i+1,j-1)\n",
    "#For j=0, u(i,-1)=u(i,1)-2kg(xi)\n",
    "Q.Solve the wave equation u_tt = u_xx, 0 ≤ x ≤ 1, subject to the conditions\n",
    "u(x, 0) = sin(π x), ut(x, 0) = 0, 0 ≤ x ≤ 1, u(0, t) = u(1, t) = 0, t > 0.\n",
    "Use an implicit method with h = 1/4 and k = 1/4. Compute for two time levels.\n",
    "\"\"\"\n",
    "import numpy as np\n",
    "l=1                               #length of string(0 ≤ x ≤ l)\n",
    "c=np.sqrt(1)                      # C value\n",
    "T=2                              #Howmany time step you requred\n",
    "h=1/4\n",
    "k=1/4\n",
    "r=(k*c)/h\n",
    "print(\"r=\",r)\n",
    "x=np.linspace(0,l,5)              #partition of X (depends on h)\n",
    "t=np.zeros(100)                   #partition of t\n",
    "for i in range (1,100):\n",
    "    t[i]=t[i-1]+k"
   ]
  },
  {
   "cell_type": "code",
   "execution_count": 45,
   "id": "eb099aab",
   "metadata": {},
   "outputs": [
    {
     "name": "stdout",
     "output_type": "stream",
     "text": [
      "[[0.       0.       0.       0.       0.      ]\n",
      " [0.       0.       0.       0.       0.      ]\n",
      " [0.       0.707107 1.       0.707107 0.      ]]\n"
     ]
    }
   ],
   "source": [
    "u=np.zeros((T+1,len(x)))\n",
    "for i in range(0,len(x)):\n",
    "    u[T,i]=round(np.sin(np.pi*x[i]),6)     #Intial condition:u(x, 0) = f(x), 0 ≤ x ≤ l\n",
    "for j in range(T,-1,-1):                   #boundary condition:u(0, t) =h(x), u(l, t) = k(x), t > 0.\n",
    "    u[j,0]=round(0,6)\n",
    "    u[j,-1]=round(0,6)\n",
    "\n",
    "print(u)"
   ]
  },
  {
   "cell_type": "code",
   "execution_count": 46,
   "id": "c8ac5790",
   "metadata": {},
   "outputs": [],
   "source": [
    "\"\"\"\n",
    "for first time step schim is \n",
    "-r^2u(i-1,1)+2(1+r^2)u(i,1)-r^2u(i+1,1)=u(i,0)+2kg(x(i))-kr^2(g(x(i-1))-2g(x(i))+g(x(i+1)))\n",
    "for i=1,2,3 we get a system of equation with tridiagonal coefficient matrix\n",
    "\"\"\"\n",
    "A=np.zeros((len(x),len(x)))\n",
    "A[0,0]=1\n",
    "A[-1,-1]=1\n",
    "b=np.zeros(len(x))\n",
    "b[0]=u[T-1,0]\n",
    "b[-1]=u[T-1,-1]\n",
    "for k in range(1,len(x)-1):\n",
    "    A[k,k-1]=-r*r\n",
    "    A[k,k]=2*(1+(r*r))\n",
    "    A[k,k+1]=-r*r\n",
    "    b[k]=2*u[T,k]\n",
    "y=np.round(np.linalg.solve(A,b),7)\n",
    "u[T-1,:]=y\n",
    "#print(y)\n",
    "#print(u)"
   ]
  },
  {
   "cell_type": "code",
   "execution_count": 47,
   "id": "174a970a",
   "metadata": {},
   "outputs": [
    {
     "name": "stdout",
     "output_type": "stream",
     "text": [
      "for time step 1, solution is: [0.       0.707107 1.       0.707107 0.      ]\n",
      "for time step 2, solution is: [0.        0.1389308 0.196478  0.1389308 0.       ]\n"
     ]
    }
   ],
   "source": [
    "print(\"for time step 1, solution is:\",u[-1,:])\n",
    "B=np.zeros((len(x),len(x)))\n",
    "B[0,0]=1\n",
    "B[-1,-1]=1\n",
    "d=np.zeros(len(x))\n",
    "for l in range(1,len(x)-1):\n",
    "        B[l,l-1]=(-r*r)/2\n",
    "        B[l,l]=1+r*r\n",
    "        B[l,l+1]=(-r*r)/2\n",
    "for m in range(2,T+1):\n",
    "    d[0]=u[T-m,0]\n",
    "    d[-1]=u[T-m,-1]\n",
    "    for n in range(1,len(x)-1):\n",
    "        d[n]=((r*r)/2)*u[T+2-m,n-1]-(1+r*r)*u[T+2-m,n]+(r*r/2)*u[T+2-m,n+1]+2*u[T+1-m,n]\n",
    "    y=np.round(np.linalg.solve(B,d),7)\n",
    "    u[T-m,:]=y\n",
    "    #print(y)\n",
    "    print(f\"for time step {m}, solution is: {u[T-m,:]}\")\n",
    "#print(u)    "
   ]
  },
  {
   "cell_type": "code",
   "execution_count": null,
   "id": "ead0dd2d",
   "metadata": {},
   "outputs": [],
   "source": []
  }
 ],
 "metadata": {
  "kernelspec": {
   "display_name": "Python 3",
   "language": "python",
   "name": "python3"
  },
  "language_info": {
   "codemirror_mode": {
    "name": "ipython",
    "version": 3
   },
   "file_extension": ".py",
   "mimetype": "text/x-python",
   "name": "python",
   "nbconvert_exporter": "python",
   "pygments_lexer": "ipython3",
   "version": "3.8.8"
  }
 },
 "nbformat": 4,
 "nbformat_minor": 5
}
