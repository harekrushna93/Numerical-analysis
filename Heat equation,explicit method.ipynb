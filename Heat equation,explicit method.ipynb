{
 "cells": [
  {
   "cell_type": "code",
   "execution_count": 65,
   "id": "9611af7d",
   "metadata": {},
   "outputs": [
    {
     "name": "stdout",
     "output_type": "stream",
     "text": [
      "k= 0.027777777777777776\n",
      "For the time level 1, u is [0.       0.649519 0.649519 0.      ]\n",
      "For the time level 2, u is [0.       0.487139 0.487139 0.      ]\n",
      "For the time level 3, u is [0.       0.365354 0.365354 0.      ]\n",
      "For the time level 4, u is [0.       0.274016 0.274016 0.      ]\n",
      "For the time level 5, u is [0.       0.205512 0.205512 0.      ]\n",
      "For the time level 6, u is [0.       0.154134 0.154134 0.      ]\n",
      "For the time level 7, u is [0.     0.1156 0.1156 0.    ]\n"
     ]
    }
   ],
   "source": [
    "# HEAT EQUATION u_t=c^2u_xx\n",
    "#schim is u(i,j+1)=pu(i-1,j)+(1-2p)u(i,j)+pu(i+1,j)\n",
    "#where p=kc^2/h^2\n",
    "#For p=1/2, u(i,j+1)=0.5(u(i-1,j)+u(i+1,j)) and the method is called Bender-Schmidt method.\n",
    "import numpy as np\n",
    "#u_t = u_xx, 0 ≤ x ≤ 1, with u(x, 0) = sin (π x), 0 ≤ x ≤ 1, u(0, t) = u(1, t) = 0\n",
    "c=1\n",
    "p=1/4\n",
    "h=1/3\n",
    "k=(p*h*h)/c*c\n",
    "print(\"k=\",k)\n",
    "x=np.linspace(0,1,4)\n",
    "u=np.zeros((20,4))\n",
    "for j in range(0,4):\n",
    "    u[19,j]=round(np.sin(np.pi*x[j]),6)\n",
    "for i in range(18,11,-1):\n",
    "    for j in range(1,3):\n",
    "        u[i,j]=round(p*u[i+1,j-1]+(1-2*p)*u[i+1,j]+p*u[i+1,j+1],6)\n",
    "    print(f\"For the time level {19-i}, u is {u[i,:]}\")\n",
    "\n",
    "\n",
    "\n",
    "\n",
    "\n",
    "\n",
    "\n",
    "\n"
   ]
  },
  {
   "cell_type": "code",
   "execution_count": 52,
   "id": "09acd597",
   "metadata": {},
   "outputs": [
    {
     "data": {
      "text/plain": [
       "0.027777777777777776"
      ]
     },
     "execution_count": 52,
     "metadata": {},
     "output_type": "execute_result"
    }
   ],
   "source": [
    "1/36"
   ]
  },
  {
   "cell_type": "code",
   "execution_count": null,
   "id": "a04ed651",
   "metadata": {},
   "outputs": [],
   "source": []
  }
 ],
 "metadata": {
  "kernelspec": {
   "display_name": "Python 3",
   "language": "python",
   "name": "python3"
  },
  "language_info": {
   "codemirror_mode": {
    "name": "ipython",
    "version": 3
   },
   "file_extension": ".py",
   "mimetype": "text/x-python",
   "name": "python",
   "nbconvert_exporter": "python",
   "pygments_lexer": "ipython3",
   "version": "3.8.8"
  }
 },
 "nbformat": 4,
 "nbformat_minor": 5
}
