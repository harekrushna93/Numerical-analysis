{
 "cells": [
  {
   "cell_type": "code",
   "execution_count": 108,
   "id": "a9f4ba67",
   "metadata": {},
   "outputs": [
    {
     "name": "stdout",
     "output_type": "stream",
     "text": [
      "r= 0.5\n"
     ]
    }
   ],
   "source": [
    "#Finite difference method for wave equation(explicit method)\n",
    "#u_tt=c^2u_xx\n",
    "#Intial condition:u(x, 0) = f(x), 0 ≤ x ≤ l and ut(x, 0) = g(x), 0 ≤ x ≤ l.\n",
    "#boundary condition:u(0, t) = 0, u(l, t) = 0, t > 0.\n",
    "#Schim is u(i,j+1)=2(1-r^2)u(i,j)+r^2[u(i-1,j)+u(i+1,j)]-u(i,j-1)\n",
    "#For j=0, u(i,-1)=u(i,1)-2kg(xi)\n",
    "\"\"\"\n",
    "utt = uxx , 0 ≤ x ≤ 1, subject to the conditions\n",
    "u(x, 0) = sin (π x), u_t(x, 0) = 0, 0 ≤ x ≤ 1, u(0, t) = u(1, t) = 0, t > 0\n",
    "h=1/4, k=1/8, for 4 time steps\n",
    "\"\"\"\n",
    "import numpy as np\n",
    "l=1                               #length of string(0 ≤ x ≤ l)\n",
    "c=np.sqrt(1)                      # C value\n",
    "tstep=4                           #Howmany time step you requred\n",
    "h=1/4\n",
    "k=1/8\n",
    "r=(k*c)/h\n",
    "print(\"r=\",r)\n",
    "x=np.linspace(0,l,5)              #partition of X\n",
    "t=np.zeros(100)                   #partition of t\n",
    "for i in range (1,100):\n",
    "    t[i]=t[i-1]+k\n",
    "\n",
    "\n",
    "\n",
    "\n",
    "\n"
   ]
  },
  {
   "cell_type": "code",
   "execution_count": 109,
   "id": "c1d8a06c",
   "metadata": {},
   "outputs": [
    {
     "name": "stdout",
     "output_type": "stream",
     "text": [
      "[[0.       0.       0.       0.       0.      ]\n",
      " [0.       0.       0.       0.       0.      ]\n",
      " [0.       0.       0.       0.       0.      ]\n",
      " [0.       0.       0.       0.       0.      ]\n",
      " [0.       0.707107 1.       0.707107 0.      ]]\n"
     ]
    }
   ],
   "source": [
    "u=np.zeros((tstep+1,len(x)))\n",
    "for i in range(0,len(x)):\n",
    "    u[-1,i]=round(np.sin(np.pi*x[i]),6)   #boundary condition:u(x, 0)                                \n",
    "for i in range(tstep,-1,-1):\n",
    "    u[i,-1]=round(0,6)            #boundary condition:u(l, t) = h(t), here it is 0\n",
    "    u[i,0]=round(0,6)             #boundary condition:u(0, t) = f(t), here it is 0\n",
    "print(u)"
   ]
  },
  {
   "cell_type": "code",
   "execution_count": 110,
   "id": "93faf74f",
   "metadata": {},
   "outputs": [
    {
     "name": "stdout",
     "output_type": "stream",
     "text": [
      "[0.         0.65533025 0.92677675 0.65533025 0.        ]\n"
     ]
    }
   ],
   "source": [
    "neg_tstep=np.zeros(len(x))\n",
    "for m in range(1,len(x)-1):\n",
    "    neg_tstep[m]=(1-r*r)*u[-1,m]+((r*r)/2)*(u[-1,m-1]+u[-1,m+1])+(k*0)  #(g(x)=0)\n",
    "    u[tstep-1,m]=neg_tstep[m]\n",
    "\n",
    "print(neg_tstep)"
   ]
  },
  {
   "cell_type": "code",
   "execution_count": 111,
   "id": "83b775bd",
   "metadata": {},
   "outputs": [
    {
     "name": "stdout",
     "output_type": "stream",
     "text": [
      "For time step 0, u(0,i)=[0.       0.707107 1.       0.707107 0.      ]\n",
      "For time step 1, u(1,i)=[0.         0.65533025 0.92677675 0.65533025 0.        ]\n",
      "For time step 2, u(2,i)=[0.         0.50758256 0.71783025 0.50758256 0.        ]\n",
      "For time step 3, u(3,i)=[0.         0.28550116 0.40375991 0.28550116 0.        ]\n",
      "For time step 4, u(4,i)=[0.         0.02160915 0.03056019 0.02160915 0.        ]\n"
     ]
    }
   ],
   "source": [
    "for i in range(2,tstep+1):\n",
    "    for j in range(1,len(x)-1):\n",
    "        u[tstep-i,j]=2*(1-r*r)*u[tstep+1-i,j]+(r*r)*(u[tstep+1-i,j-1]+u[tstep+1-i,j+1])-u[tstep+2-i,j]\n",
    "\n",
    "for k in range(0,tstep+1):\n",
    "    print(f\"For time step {k}, u({k},i)={u[tstep-k,:]}\")\n",
    "#print(u)"
   ]
  },
  {
   "cell_type": "code",
   "execution_count": null,
   "id": "8a01f82e",
   "metadata": {},
   "outputs": [],
   "source": []
  }
 ],
 "metadata": {
  "kernelspec": {
   "display_name": "Python 3",
   "language": "python",
   "name": "python3"
  },
  "language_info": {
   "codemirror_mode": {
    "name": "ipython",
    "version": 3
   },
   "file_extension": ".py",
   "mimetype": "text/x-python",
   "name": "python",
   "nbconvert_exporter": "python",
   "pygments_lexer": "ipython3",
   "version": "3.8.8"
  }
 },
 "nbformat": 4,
 "nbformat_minor": 5
}
