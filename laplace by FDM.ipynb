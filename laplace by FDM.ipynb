{
 "cells": [
  {
   "cell_type": "code",
   "execution_count": 4,
   "id": "9c2d6295",
   "metadata": {},
   "outputs": [
    {
     "name": "stdout",
     "output_type": "stream",
     "text": [
      "[[-1.         -0.33333333  0.33333333  1.        ]\n",
      " [-0.66666667 -0.          0.666667    1.33333333]\n",
      " [-0.33333333  0.333333    1.          1.66666667]\n",
      " [-0.          0.66666667  1.33333333  2.        ]]\n"
     ]
    }
   ],
   "source": [
    "import numpy as np\n",
    "h,k=1/3,1/3\n",
    "x=np.linspace(0,1,4)\n",
    "y=np.linspace(1,0,4)\n",
    "u=np.zeros((4,4))\n",
    "\n",
    "u[-1,:]=2*x\n",
    "u[:,0]=-y\n",
    "u[0,:]=2*x-1\n",
    "u[:,-1]=2-y\n",
    "for k in range(100):\n",
    "    for i in range(1,3):\n",
    "        for j in range(1,3):\n",
    "            u[i,j]=round(0.25*(u[i-1,j]+u[i,j+1]+u[i+1,j]+u[i,j-1]),6)\n",
    "print(u)"
   ]
  },
  {
   "cell_type": "code",
   "execution_count": 75,
   "id": "0b1f9e01",
   "metadata": {},
   "outputs": [
    {
     "name": "stdout",
     "output_type": "stream",
     "text": [
      "[[0. 2. 0. 0. 0. 0.]\n",
      " [0. 2. 0. 0. 0. 0.]\n",
      " [0. 2. 0. 0. 0. 0.]\n",
      " [0. 0. 0. 0. 0. 0.]\n",
      " [0. 0. 0. 0. 0. 0.]]\n"
     ]
    }
   ],
   "source": [
    "b=np.zeros((5,6))\n",
    "b[0:3,1]=2\n",
    "print(b)"
   ]
  },
  {
   "cell_type": "code",
   "execution_count": null,
   "id": "f1099402",
   "metadata": {},
   "outputs": [],
   "source": []
  }
 ],
 "metadata": {
  "kernelspec": {
   "display_name": "Python 3",
   "language": "python",
   "name": "python3"
  },
  "language_info": {
   "codemirror_mode": {
    "name": "ipython",
    "version": 3
   },
   "file_extension": ".py",
   "mimetype": "text/x-python",
   "name": "python",
   "nbconvert_exporter": "python",
   "pygments_lexer": "ipython3",
   "version": "3.8.8"
  }
 },
 "nbformat": 4,
 "nbformat_minor": 5
}
