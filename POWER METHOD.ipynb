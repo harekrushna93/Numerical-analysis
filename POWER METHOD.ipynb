{
 "cells": [
  {
   "cell_type": "markdown",
   "id": "0126a8c8",
   "metadata": {},
   "source": [
    "##POWER METHOD\n",
    "import numpy as np\n",
    "A=np.array([[25,1,2],[1,3,0],[2,0,-4]])\n",
    "vk=np.array([1,1,1])\n",
    "k=0\n",
    "for k in range(10):\n",
    "    yk=A@vk\n",
    "    vk=(1/max(abs(yk)))*yk\n",
    "    k=k+1\n",
    "    print(f\"y{k}=\",yk)\n",
    "    print(f\"v{k}=\",vk)\n",
    "eig=yk/vk\n",
    "eigenvalue=eig[0]\n",
    "print(f\"eigenvalue is:-{eigenvalue}\")\n",
    "print(f\"eigenvector is:-{vk}\")\n",
    "\n",
    "    \n",
    "    \n",
    "    \n",
    "    "
   ]
  },
  {
   "cell_type": "code",
   "execution_count": null,
   "id": "98f35008",
   "metadata": {},
   "outputs": [],
   "source": []
  }
 ],
 "metadata": {
  "kernelspec": {
   "display_name": "Python 3",
   "language": "python",
   "name": "python3"
  },
  "language_info": {
   "codemirror_mode": {
    "name": "ipython",
    "version": 3
   },
   "file_extension": ".py",
   "mimetype": "text/x-python",
   "name": "python",
   "nbconvert_exporter": "python",
   "pygments_lexer": "ipython3",
   "version": "3.8.8"
  }
 },
 "nbformat": 4,
 "nbformat_minor": 5
}
