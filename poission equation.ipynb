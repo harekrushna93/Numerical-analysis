{
 "cells": [
  {
   "cell_type": "code",
   "execution_count": 30,
   "id": "c98621e8",
   "metadata": {},
   "outputs": [
    {
     "name": "stdout",
     "output_type": "stream",
     "text": [
      "[[ 0.        0.        0.        0.      ]\n",
      " [ 0.       -0.111111 -0.101852  0.      ]\n",
      " [ 0.       -0.12037  -0.111111  0.      ]\n",
      " [ 0.        0.        0.        0.      ]]\n",
      "u(1/3,1/3)=-0.12037\n",
      "u(2/3,1,3)=-0.111111\n",
      "u(1/3,2/3)=-0.111111\n",
      "u(2/3,2/3)=-0.101852\n"
     ]
    }
   ],
   "source": [
    "#poission equation\n",
    "#u_xx+u_yy=x+y+1\n",
    "#u=0 0n the boundary\n",
    "import numpy as np\n",
    "h=1/3\n",
    "k=h\n",
    "x=np.linspace(0,1,4)\n",
    "y=np.linspace(1,0,4)\n",
    "u=np.zeros((4,4))\n",
    "#schim is u(i+1,j)+u(i-1,j)+u(i,j+1)+u(i,j-1)-4u(i,j)=(h^2)(x+y+1)\n",
    "for k in range(50):\n",
    "    for j in range(1,3):\n",
    "        for i in range(1,3):\n",
    "            u[i,j]=round(0.25*(u[i+1,j]+u[i-1,j]+u[i,j+1]+u[i,j-1]-(1/9)*(x[i]+y[j]+1)),6)\n",
    "\n",
    "print(u)\n",
    "print(f\"u(1/3,1/3)={u[2,1]}\\nu(2/3,1,3)={u[2,2]}\\nu(1/3,2/3)={u[1,1]}\\nu(2/3,2/3)={u[1,2]}\")"
   ]
  },
  {
   "cell_type": "code",
   "execution_count": null,
   "id": "fdd78847",
   "metadata": {},
   "outputs": [],
   "source": []
  }
 ],
 "metadata": {
  "kernelspec": {
   "display_name": "Python 3",
   "language": "python",
   "name": "python3"
  },
  "language_info": {
   "codemirror_mode": {
    "name": "ipython",
    "version": 3
   },
   "file_extension": ".py",
   "mimetype": "text/x-python",
   "name": "python",
   "nbconvert_exporter": "python",
   "pygments_lexer": "ipython3",
   "version": "3.8.8"
  }
 },
 "nbformat": 4,
 "nbformat_minor": 5
}
