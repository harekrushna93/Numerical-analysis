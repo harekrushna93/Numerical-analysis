{
 "cells": [
  {
   "cell_type": "code",
   "execution_count": 117,
   "id": "78d839bb",
   "metadata": {},
   "outputs": [
    {
     "name": "stdout",
     "output_type": "stream",
     "text": [
      "(step length along time axis)k=1/16= 0.0625\n",
      "For time level 1,u(1,i)=[0.         0.00111607 0.00446429 0.01674107 0.0625    ]\n",
      "For time level 2,u(2,i)=[0.         0.00589821 0.01913286 0.05277321 0.125     ]\n",
      "For time level 3,u(3,i)=[0.         0.01523679 0.04181714 0.09336179 0.1875    ]\n",
      "For time level 4,u(4,i)=[0.         0.02751821 0.06825286 0.13689321 0.25      ]\n",
      "For time level 5,u(5,i)=[0.         0.04128821 0.09690286 0.18191321 0.3125    ]\n",
      "For time level 6,u(6,i)=[0.         0.05590536 0.12672143 0.22778036 0.375     ]\n",
      "For time level 7,u(7,i)=[0.         0.07097821 0.15719286 0.27410321 0.4375    ]\n",
      "For time level 8,u(8,i)=[0.         0.08630107 0.18801429 0.32067607 0.5       ]\n",
      "For time level 9,u(9,i)=[0.         0.10176036 0.21903143 0.36738536 0.5625    ]\n",
      "For time level 10,u(10,i)=[0.         0.11729607 0.25015429 0.41417107 0.625     ]\n"
     ]
    }
   ],
   "source": [
    "#Crank-Nicolson method to solve one dimensional Heat Equation\n",
    "#ut = uxx\n",
    "#u(x, 0) = 0, u(0, t) = 0 and u(1, t) = t\n",
    "#for two time step\n",
    "import numpy as np\n",
    "time=100        #time tends to infinity\n",
    "l=10            #no of Time level\n",
    "h=1/4           #step length along X axis\n",
    "p=1\n",
    "c=np.sqrt(1)\n",
    "k=(p*h*h)/(c*c)#step length along time axis\n",
    "print(\"(step length along time axis)k=1/16=\",k)\n",
    "\"\"\"\n",
    "Crank-Nicolson method is given by\n",
    "(-p/2)u(i-1,j+1)+(1+p)u(i,j+1)-(p/2)u(i+1,j+1)=(p/2)u(i-1,j)+(1-p)u(i,j)+(p/2)u(i+1,j)\n",
    "p=kc^2/h^2\n",
    "\"\"\"\n",
    "x=np.linspace(0,1,5)\n",
    "t=np.arange(0,100,k)\n",
    "#for time level 1\n",
    "u=np.zeros((l+1,5))\n",
    "u[-1,:]=0\n",
    "u[:,0]=0\n",
    "for i in range(0,l+1):\n",
    "    u[l-i,-1]=t[i]\n",
    "#print(u)\n",
    "A=np.zeros((5,5))\n",
    "A[0,0]=1\n",
    "A[4,4]=1\n",
    "b=np.zeros(5)\n",
    "b[0]=0\n",
    "#print(u)\n",
    "for j in range(0,l):\n",
    "    b[4]=u[l-j-1,4]\n",
    "    for i in range(1,4):\n",
    "        A[i,i-1]=-p\n",
    "        A[i,i+1]=-p\n",
    "        A[i,i]=2*(1+p)\n",
    "        b[i]=round(p*u[l-j,i-1]+2*(1-p)*u[l-j,i]+p*u[l-j,i+1],5)\n",
    "    #print(A,b)\n",
    "       \n",
    "       \n",
    "    y=np.linalg.solve(A,b)\n",
    "    u[l-j-1,:]=y\n",
    "    print(f\"For time level {j+1},u({j+1},i)={u[l-j-1,:]}\")\n",
    "#print(u)\n",
    "   \n",
    "\n",
    "\n",
    "\n",
    "\n",
    "\n",
    "\n"
   ]
  },
  {
   "cell_type": "code",
   "execution_count": 11,
   "id": "b31321f6",
   "metadata": {},
   "outputs": [
    {
     "name": "stdout",
     "output_type": "stream",
     "text": [
      "[6. 0.]\n"
     ]
    }
   ],
   "source": [
    "u=np.zeros(2)\n",
    "u[0]=6\n",
    "print(u)"
   ]
  },
  {
   "cell_type": "code",
   "execution_count": 100,
   "id": "0263380f",
   "metadata": {},
   "outputs": [
    {
     "name": "stdout",
     "output_type": "stream",
     "text": [
      "[0.     0.0625 0.125  0.1875 0.25   0.3125 0.375  0.4375 0.5    0.5625\n",
      " 0.625  0.6875 0.75   0.8125 0.875  0.9375 1.    ]\n"
     ]
    }
   ],
   "source": [
    "print(t)"
   ]
  },
  {
   "cell_type": "code",
   "execution_count": null,
   "id": "25500879",
   "metadata": {},
   "outputs": [],
   "source": []
  }
 ],
 "metadata": {
  "kernelspec": {
   "display_name": "Python 3",
   "language": "python",
   "name": "python3"
  },
  "language_info": {
   "codemirror_mode": {
    "name": "ipython",
    "version": 3
   },
   "file_extension": ".py",
   "mimetype": "text/x-python",
   "name": "python",
   "nbconvert_exporter": "python",
   "pygments_lexer": "ipython3",
   "version": "3.8.8"
  }
 },
 "nbformat": 4,
 "nbformat_minor": 5
}
