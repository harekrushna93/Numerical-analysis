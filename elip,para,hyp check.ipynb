{
 "cells": [
  {
   "cell_type": "code",
   "execution_count": 3,
   "id": "6ff0da3e",
   "metadata": {},
   "outputs": [
    {
     "name": "stdout",
     "output_type": "stream",
     "text": [
      "Enter the value of A:1\n",
      "Enter the value of B:0\n",
      "Enter the value of C:1\n",
      "Enter the value of D:0\n",
      "Enter the value of E:0\n",
      "Enter the value of F:0\n",
      "Enter the value of G:0\n",
      "B^2-4AC= -4.0\n",
      "Equation  is Eliptic\n"
     ]
    }
   ],
   "source": [
    "#consider the 2nd degree partial differential equation Au_xx+Bu_xy+Cu_yy+Du_x+Eu_y+Fu+G=0\n",
    "#Here A,B,C,D,E,F,G are real constants.\n",
    "A=float(input(\"Enter the value of A:\"))\n",
    "B=float(input(\"Enter the value of B:\"))\n",
    "C=float(input(\"Enter the value of C:\"))\n",
    "D=float(input(\"Enter the value of D:\"))\n",
    "E=float(input(\"Enter the value of E:\"))\n",
    "F=float(input(\"Enter the value of F:\"))\n",
    "G=float(input(\"Enter the value of G:\"))\n",
    "d=B**2-4*A*C\n",
    "print(\"B^2-4AC=\",d)\n",
    "if d<0:\n",
    "    print(\"Equation  is Eliptic\")\n",
    "elif d==0:\n",
    "    print(\"Equation is Parabolic\")\n",
    "elif d>0:\n",
    "    print(\"Equation is Hyparabolic\")"
   ]
  },
  {
   "cell_type": "code",
   "execution_count": null,
   "id": "0c077c03",
   "metadata": {},
   "outputs": [],
   "source": []
  }
 ],
 "metadata": {
  "kernelspec": {
   "display_name": "Python 3",
   "language": "python",
   "name": "python3"
  },
  "language_info": {
   "codemirror_mode": {
    "name": "ipython",
    "version": 3
   },
   "file_extension": ".py",
   "mimetype": "text/x-python",
   "name": "python",
   "nbconvert_exporter": "python",
   "pygments_lexer": "ipython3",
   "version": "3.8.8"
  }
 },
 "nbformat": 4,
 "nbformat_minor": 5
}
